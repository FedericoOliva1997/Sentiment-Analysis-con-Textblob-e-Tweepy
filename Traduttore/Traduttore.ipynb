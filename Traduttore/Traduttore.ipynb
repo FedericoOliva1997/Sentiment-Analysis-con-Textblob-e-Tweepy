{
 "cells": [
  {
   "cell_type": "code",
   "execution_count": 1,
   "metadata": {},
   "outputs": [],
   "source": [
    "import pandas as pd \n",
    "from googletrans import Translator"
   ]
  },
  {
   "cell_type": "code",
   "execution_count": 2,
   "metadata": {},
   "outputs": [],
   "source": [
    "translator= Translator()"
   ]
  },
  {
   "cell_type": "code",
   "execution_count": 3,
   "metadata": {},
   "outputs": [],
   "source": [
    "df=pd.read_csv(r\"C:\\Users\\Federico\\Google Drive\\Progetti Jupyter\\Tweepy\\Tweet Lockdown\\Tweet Lockdown.csv\")"
   ]
  },
  {
   "cell_type": "code",
   "execution_count": 4,
   "metadata": {},
   "outputs": [
    {
     "data": {
      "text/html": [
       "<div>\n",
       "<style scoped>\n",
       "    .dataframe tbody tr th:only-of-type {\n",
       "        vertical-align: middle;\n",
       "    }\n",
       "\n",
       "    .dataframe tbody tr th {\n",
       "        vertical-align: top;\n",
       "    }\n",
       "\n",
       "    .dataframe thead th {\n",
       "        text-align: right;\n",
       "    }\n",
       "</style>\n",
       "<table border=\"1\" class=\"dataframe\">\n",
       "  <thead>\n",
       "    <tr style=\"text-align: right;\">\n",
       "      <th></th>\n",
       "      <th>Testo</th>\n",
       "    </tr>\n",
       "  </thead>\n",
       "  <tbody>\n",
       "    <tr>\n",
       "      <th>0</th>\n",
       "      <td>Stato Non puoi pagargli la Cassa Integrazione ...</td>\n",
       "    </tr>\n",
       "    <tr>\n",
       "      <th>1</th>\n",
       "      <td>Lockdown a Natale Ecco la previsione di Crisan...</td>\n",
       "    </tr>\n",
       "    <tr>\n",
       "      <th>2</th>\n",
       "      <td>Io sono pi drastica tranne poche eccezioni non...</td>\n",
       "    </tr>\n",
       "    <tr>\n",
       "      <th>3</th>\n",
       "      <td>Popolazione Lombardia 10060574 abitanti pi o m...</td>\n",
       "    </tr>\n",
       "    <tr>\n",
       "      <th>4</th>\n",
       "      <td>Per implementare un lockdown in assenza di dic...</td>\n",
       "    </tr>\n",
       "    <tr>\n",
       "      <th>...</th>\n",
       "      <td>...</td>\n",
       "    </tr>\n",
       "    <tr>\n",
       "      <th>995</th>\n",
       "      <td>Solo a me fa strano vedere le persone nei film...</td>\n",
       "    </tr>\n",
       "    <tr>\n",
       "      <th>996</th>\n",
       "      <td>Il prezzo ingiusto post lockdown Presadiretta</td>\n",
       "    </tr>\n",
       "    <tr>\n",
       "      <th>997</th>\n",
       "      <td>Durante il lockdown i miliardari hanno visto a...</td>\n",
       "    </tr>\n",
       "    <tr>\n",
       "      <th>998</th>\n",
       "      <td>Questo nuovo Dpcm ha un forte e amarissimo sap...</td>\n",
       "    </tr>\n",
       "    <tr>\n",
       "      <th>999</th>\n",
       "      <td>speranza COVID19 dpcm tra qualche tempo temo t...</td>\n",
       "    </tr>\n",
       "  </tbody>\n",
       "</table>\n",
       "<p>1000 rows × 1 columns</p>\n",
       "</div>"
      ],
      "text/plain": [
       "                                                 Testo\n",
       "0    Stato Non puoi pagargli la Cassa Integrazione ...\n",
       "1    Lockdown a Natale Ecco la previsione di Crisan...\n",
       "2    Io sono pi drastica tranne poche eccezioni non...\n",
       "3    Popolazione Lombardia 10060574 abitanti pi o m...\n",
       "4    Per implementare un lockdown in assenza di dic...\n",
       "..                                                 ...\n",
       "995  Solo a me fa strano vedere le persone nei film...\n",
       "996      Il prezzo ingiusto post lockdown Presadiretta\n",
       "997  Durante il lockdown i miliardari hanno visto a...\n",
       "998  Questo nuovo Dpcm ha un forte e amarissimo sap...\n",
       "999  speranza COVID19 dpcm tra qualche tempo temo t...\n",
       "\n",
       "[1000 rows x 1 columns]"
      ]
     },
     "execution_count": 4,
     "metadata": {},
     "output_type": "execute_result"
    }
   ],
   "source": [
    "df"
   ]
  },
  {
   "cell_type": "code",
   "execution_count": 5,
   "metadata": {},
   "outputs": [],
   "source": [
    "df['Text'] = df['Testo'].apply(translator.translate, src='it', dest='en').apply(getattr, args=('text',))"
   ]
  },
  {
   "cell_type": "code",
   "execution_count": 6,
   "metadata": {},
   "outputs": [
    {
     "data": {
      "text/html": [
       "<div>\n",
       "<style scoped>\n",
       "    .dataframe tbody tr th:only-of-type {\n",
       "        vertical-align: middle;\n",
       "    }\n",
       "\n",
       "    .dataframe tbody tr th {\n",
       "        vertical-align: top;\n",
       "    }\n",
       "\n",
       "    .dataframe thead th {\n",
       "        text-align: right;\n",
       "    }\n",
       "</style>\n",
       "<table border=\"1\" class=\"dataframe\">\n",
       "  <thead>\n",
       "    <tr style=\"text-align: right;\">\n",
       "      <th></th>\n",
       "      <th>Testo</th>\n",
       "      <th>Text</th>\n",
       "    </tr>\n",
       "  </thead>\n",
       "  <tbody>\n",
       "    <tr>\n",
       "      <th>0</th>\n",
       "      <td>Stato Non puoi pagargli la Cassa Integrazione ...</td>\n",
       "      <td>Status You can't pay them the redundancy fund ...</td>\n",
       "    </tr>\n",
       "    <tr>\n",
       "      <th>1</th>\n",
       "      <td>Lockdown a Natale Ecco la previsione di Crisan...</td>\n",
       "      <td>Christmas lockdown Here is the prediction of C...</td>\n",
       "    </tr>\n",
       "    <tr>\n",
       "      <th>2</th>\n",
       "      <td>Io sono pi drastica tranne poche eccezioni non...</td>\n",
       "      <td>I am more drastic with a few exceptions they n...</td>\n",
       "    </tr>\n",
       "    <tr>\n",
       "      <th>3</th>\n",
       "      <td>Popolazione Lombardia 10060574 abitanti pi o m...</td>\n",
       "      <td>Population Lombardy 10060574 inhabitants more ...</td>\n",
       "    </tr>\n",
       "    <tr>\n",
       "      <th>4</th>\n",
       "      <td>Per implementare un lockdown in assenza di dic...</td>\n",
       "      <td>To implement a lockdown in the absence of a fo...</td>\n",
       "    </tr>\n",
       "    <tr>\n",
       "      <th>...</th>\n",
       "      <td>...</td>\n",
       "      <td>...</td>\n",
       "    </tr>\n",
       "    <tr>\n",
       "      <th>995</th>\n",
       "      <td>Solo a me fa strano vedere le persone nei film...</td>\n",
       "      <td>Solo a me fa strano vedere le persone nei film...</td>\n",
       "    </tr>\n",
       "    <tr>\n",
       "      <th>996</th>\n",
       "      <td>Il prezzo ingiusto post lockdown Presadiretta</td>\n",
       "      <td>Il prezzo ingiusto post lockdown Presadiretta</td>\n",
       "    </tr>\n",
       "    <tr>\n",
       "      <th>997</th>\n",
       "      <td>Durante il lockdown i miliardari hanno visto a...</td>\n",
       "      <td>Durante il lockdown i miliardari hanno visto a...</td>\n",
       "    </tr>\n",
       "    <tr>\n",
       "      <th>998</th>\n",
       "      <td>Questo nuovo Dpcm ha un forte e amarissimo sap...</td>\n",
       "      <td>This new Dpcm has a strong and very bitter tas...</td>\n",
       "    </tr>\n",
       "    <tr>\n",
       "      <th>999</th>\n",
       "      <td>speranza COVID19 dpcm tra qualche tempo temo t...</td>\n",
       "      <td>speranza COVID19 dpcm tra qualche tempo temo t...</td>\n",
       "    </tr>\n",
       "  </tbody>\n",
       "</table>\n",
       "<p>1000 rows × 2 columns</p>\n",
       "</div>"
      ],
      "text/plain": [
       "                                                 Testo  \\\n",
       "0    Stato Non puoi pagargli la Cassa Integrazione ...   \n",
       "1    Lockdown a Natale Ecco la previsione di Crisan...   \n",
       "2    Io sono pi drastica tranne poche eccezioni non...   \n",
       "3    Popolazione Lombardia 10060574 abitanti pi o m...   \n",
       "4    Per implementare un lockdown in assenza di dic...   \n",
       "..                                                 ...   \n",
       "995  Solo a me fa strano vedere le persone nei film...   \n",
       "996      Il prezzo ingiusto post lockdown Presadiretta   \n",
       "997  Durante il lockdown i miliardari hanno visto a...   \n",
       "998  Questo nuovo Dpcm ha un forte e amarissimo sap...   \n",
       "999  speranza COVID19 dpcm tra qualche tempo temo t...   \n",
       "\n",
       "                                                  Text  \n",
       "0    Status You can't pay them the redundancy fund ...  \n",
       "1    Christmas lockdown Here is the prediction of C...  \n",
       "2    I am more drastic with a few exceptions they n...  \n",
       "3    Population Lombardy 10060574 inhabitants more ...  \n",
       "4    To implement a lockdown in the absence of a fo...  \n",
       "..                                                 ...  \n",
       "995  Solo a me fa strano vedere le persone nei film...  \n",
       "996      Il prezzo ingiusto post lockdown Presadiretta  \n",
       "997  Durante il lockdown i miliardari hanno visto a...  \n",
       "998  This new Dpcm has a strong and very bitter tas...  \n",
       "999  speranza COVID19 dpcm tra qualche tempo temo t...  \n",
       "\n",
       "[1000 rows x 2 columns]"
      ]
     },
     "execution_count": 6,
     "metadata": {},
     "output_type": "execute_result"
    }
   ],
   "source": [
    "df"
   ]
  },
  {
   "cell_type": "code",
   "execution_count": 8,
   "metadata": {},
   "outputs": [],
   "source": [
    "df.to_csv(r\"C:\\Users\\Federico\\Google Drive\\Progetti Jupyter\\Tweepy\\Tweet Lockdown\\Tweet Lockdown inglese.csv\")"
   ]
  },
  {
   "cell_type": "code",
   "execution_count": null,
   "metadata": {},
   "outputs": [],
   "source": []
  }
 ],
 "metadata": {
  "kernelspec": {
   "display_name": "Python 3",
   "language": "python",
   "name": "python3"
  },
  "language_info": {
   "codemirror_mode": {
    "name": "ipython",
    "version": 3
   },
   "file_extension": ".py",
   "mimetype": "text/x-python",
   "name": "python",
   "nbconvert_exporter": "python",
   "pygments_lexer": "ipython3",
   "version": "3.8.3"
  }
 },
 "nbformat": 4,
 "nbformat_minor": 4
}
