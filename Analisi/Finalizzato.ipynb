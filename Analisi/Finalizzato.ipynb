{
 "cells": [
  {
   "cell_type": "code",
   "execution_count": 1,
   "metadata": {},
   "outputs": [],
   "source": [
    "import os\n",
    "import pandas as pd\n",
    "import matplotlib.pyplot as plt\n",
    "import seaborn as sns\n",
    "import itertools\n",
    "import collections\n",
    "\n",
    "import tweepy as tw\n",
    "import nltk\n",
    "from nltk.corpus import stopwords\n",
    "import re\n",
    "import networkx\n",
    "from textblob import TextBlob\n",
    "\n",
    "import warnings\n",
    "warnings.filterwarnings(\"ignore\")\n",
    "\n",
    "sns.set(font_scale=1.5)\n",
    "sns.set_style(\"whitegrid\")\n",
    "pd.set_option('display.width', 1000)\n"
   ]
  },
  {
   "cell_type": "code",
   "execution_count": 2,
   "metadata": {},
   "outputs": [],
   "source": [
    "df=pd.read_csv(r\"C:\\Users\\Federico\\Google Drive\\Progetti Jupyter\\Tweepy\\Tweet Lockdown\\Tweet Lockdown inglese.csv\")"
   ]
  },
  {
   "cell_type": "code",
   "execution_count": 3,
   "metadata": {},
   "outputs": [
    {
     "data": {
      "text/html": [
       "<div>\n",
       "<style scoped>\n",
       "    .dataframe tbody tr th:only-of-type {\n",
       "        vertical-align: middle;\n",
       "    }\n",
       "\n",
       "    .dataframe tbody tr th {\n",
       "        vertical-align: top;\n",
       "    }\n",
       "\n",
       "    .dataframe thead th {\n",
       "        text-align: right;\n",
       "    }\n",
       "</style>\n",
       "<table border=\"1\" class=\"dataframe\">\n",
       "  <thead>\n",
       "    <tr style=\"text-align: right;\">\n",
       "      <th></th>\n",
       "      <th>Unnamed: 0</th>\n",
       "      <th>Testo</th>\n",
       "      <th>Text</th>\n",
       "    </tr>\n",
       "  </thead>\n",
       "  <tbody>\n",
       "    <tr>\n",
       "      <th>0</th>\n",
       "      <td>0</td>\n",
       "      <td>Stato Non puoi pagargli la Cassa Integrazione ...</td>\n",
       "      <td>Status You can't pay them the redundancy fund ...</td>\n",
       "    </tr>\n",
       "    <tr>\n",
       "      <th>1</th>\n",
       "      <td>1</td>\n",
       "      <td>Lockdown a Natale Ecco la previsione di Crisan...</td>\n",
       "      <td>Christmas lockdown Here is the prediction of C...</td>\n",
       "    </tr>\n",
       "    <tr>\n",
       "      <th>2</th>\n",
       "      <td>2</td>\n",
       "      <td>Io sono pi drastica tranne poche eccezioni non...</td>\n",
       "      <td>I am more drastic with a few exceptions they n...</td>\n",
       "    </tr>\n",
       "    <tr>\n",
       "      <th>3</th>\n",
       "      <td>3</td>\n",
       "      <td>Popolazione Lombardia 10060574 abitanti pi o m...</td>\n",
       "      <td>Population Lombardy 10060574 inhabitants more ...</td>\n",
       "    </tr>\n",
       "    <tr>\n",
       "      <th>4</th>\n",
       "      <td>4</td>\n",
       "      <td>Per implementare un lockdown in assenza di dic...</td>\n",
       "      <td>To implement a lockdown in the absence of a fo...</td>\n",
       "    </tr>\n",
       "    <tr>\n",
       "      <th>...</th>\n",
       "      <td>...</td>\n",
       "      <td>...</td>\n",
       "      <td>...</td>\n",
       "    </tr>\n",
       "    <tr>\n",
       "      <th>995</th>\n",
       "      <td>995</td>\n",
       "      <td>Solo a me fa strano vedere le persone nei film...</td>\n",
       "      <td>Solo a me fa strano vedere le persone nei film...</td>\n",
       "    </tr>\n",
       "    <tr>\n",
       "      <th>996</th>\n",
       "      <td>996</td>\n",
       "      <td>Il prezzo ingiusto post lockdown Presadiretta</td>\n",
       "      <td>Il prezzo ingiusto post lockdown Presadiretta</td>\n",
       "    </tr>\n",
       "    <tr>\n",
       "      <th>997</th>\n",
       "      <td>997</td>\n",
       "      <td>Durante il lockdown i miliardari hanno visto a...</td>\n",
       "      <td>Durante il lockdown i miliardari hanno visto a...</td>\n",
       "    </tr>\n",
       "    <tr>\n",
       "      <th>998</th>\n",
       "      <td>998</td>\n",
       "      <td>Questo nuovo Dpcm ha un forte e amarissimo sap...</td>\n",
       "      <td>This new Dpcm has a strong and very bitter tas...</td>\n",
       "    </tr>\n",
       "    <tr>\n",
       "      <th>999</th>\n",
       "      <td>999</td>\n",
       "      <td>speranza COVID19 dpcm tra qualche tempo temo t...</td>\n",
       "      <td>speranza COVID19 dpcm tra qualche tempo temo t...</td>\n",
       "    </tr>\n",
       "  </tbody>\n",
       "</table>\n",
       "<p>1000 rows × 3 columns</p>\n",
       "</div>"
      ],
      "text/plain": [
       "     Unnamed: 0                                              Testo                                               Text\n",
       "0             0  Stato Non puoi pagargli la Cassa Integrazione ...  Status You can't pay them the redundancy fund ...\n",
       "1             1  Lockdown a Natale Ecco la previsione di Crisan...  Christmas lockdown Here is the prediction of C...\n",
       "2             2  Io sono pi drastica tranne poche eccezioni non...  I am more drastic with a few exceptions they n...\n",
       "3             3  Popolazione Lombardia 10060574 abitanti pi o m...  Population Lombardy 10060574 inhabitants more ...\n",
       "4             4  Per implementare un lockdown in assenza di dic...  To implement a lockdown in the absence of a fo...\n",
       "..          ...                                                ...                                                ...\n",
       "995         995  Solo a me fa strano vedere le persone nei film...  Solo a me fa strano vedere le persone nei film...\n",
       "996         996      Il prezzo ingiusto post lockdown Presadiretta      Il prezzo ingiusto post lockdown Presadiretta\n",
       "997         997  Durante il lockdown i miliardari hanno visto a...  Durante il lockdown i miliardari hanno visto a...\n",
       "998         998  Questo nuovo Dpcm ha un forte e amarissimo sap...  This new Dpcm has a strong and very bitter tas...\n",
       "999         999  speranza COVID19 dpcm tra qualche tempo temo t...  speranza COVID19 dpcm tra qualche tempo temo t...\n",
       "\n",
       "[1000 rows x 3 columns]"
      ]
     },
     "execution_count": 3,
     "metadata": {},
     "output_type": "execute_result"
    }
   ],
   "source": [
    "df"
   ]
  },
  {
   "cell_type": "code",
   "execution_count": 4,
   "metadata": {},
   "outputs": [],
   "source": [
    "df['Polarity'] = df['Text'].apply(lambda tweet: TextBlob(tweet).sentiment.polarity)"
   ]
  },
  {
   "cell_type": "code",
   "execution_count": 5,
   "metadata": {},
   "outputs": [],
   "source": [
    "df['Subjectivity'] = df['Text'].apply(lambda tweet: TextBlob(tweet).sentiment.subjectivity)"
   ]
  },
  {
   "cell_type": "code",
   "execution_count": 6,
   "metadata": {},
   "outputs": [],
   "source": [
    "df = df.drop(df[df.Polarity == 0].index)"
   ]
  },
  {
   "cell_type": "code",
   "execution_count": 7,
   "metadata": {},
   "outputs": [
    {
     "data": {
      "text/html": [
       "<div>\n",
       "<style scoped>\n",
       "    .dataframe tbody tr th:only-of-type {\n",
       "        vertical-align: middle;\n",
       "    }\n",
       "\n",
       "    .dataframe tbody tr th {\n",
       "        vertical-align: top;\n",
       "    }\n",
       "\n",
       "    .dataframe thead th {\n",
       "        text-align: right;\n",
       "    }\n",
       "</style>\n",
       "<table border=\"1\" class=\"dataframe\">\n",
       "  <thead>\n",
       "    <tr style=\"text-align: right;\">\n",
       "      <th></th>\n",
       "      <th>Unnamed: 0</th>\n",
       "      <th>Testo</th>\n",
       "      <th>Text</th>\n",
       "      <th>Polarity</th>\n",
       "      <th>Subjectivity</th>\n",
       "    </tr>\n",
       "  </thead>\n",
       "  <tbody>\n",
       "    <tr>\n",
       "      <th>2</th>\n",
       "      <td>2</td>\n",
       "      <td>Io sono pi drastica tranne poche eccezioni non...</td>\n",
       "      <td>I am more drastic with a few exceptions they n...</td>\n",
       "      <td>0.150000</td>\n",
       "      <td>0.300000</td>\n",
       "    </tr>\n",
       "    <tr>\n",
       "      <th>3</th>\n",
       "      <td>3</td>\n",
       "      <td>Popolazione Lombardia 10060574 abitanti pi o m...</td>\n",
       "      <td>Population Lombardy 10060574 inhabitants more ...</td>\n",
       "      <td>0.166667</td>\n",
       "      <td>0.283333</td>\n",
       "    </tr>\n",
       "    <tr>\n",
       "      <th>4</th>\n",
       "      <td>4</td>\n",
       "      <td>Per implementare un lockdown in assenza di dic...</td>\n",
       "      <td>To implement a lockdown in the absence of a fo...</td>\n",
       "      <td>-0.012500</td>\n",
       "      <td>0.000000</td>\n",
       "    </tr>\n",
       "    <tr>\n",
       "      <th>6</th>\n",
       "      <td>6</td>\n",
       "      <td>Apro twitterLockdown2 lockdown Natale Lombardi...</td>\n",
       "      <td>I open twitterLockdown2 Christmas Lombardy loc...</td>\n",
       "      <td>0.045455</td>\n",
       "      <td>0.651515</td>\n",
       "    </tr>\n",
       "    <tr>\n",
       "      <th>9</th>\n",
       "      <td>9</td>\n",
       "      <td>Causa COVID19 rinunciamo pure ad una vacanza a...</td>\n",
       "      <td>Cause COVID19 we will also give up a holiday a...</td>\n",
       "      <td>0.416667</td>\n",
       "      <td>0.666667</td>\n",
       "    </tr>\n",
       "    <tr>\n",
       "      <th>...</th>\n",
       "      <td>...</td>\n",
       "      <td>...</td>\n",
       "      <td>...</td>\n",
       "      <td>...</td>\n",
       "      <td>...</td>\n",
       "    </tr>\n",
       "    <tr>\n",
       "      <th>983</th>\n",
       "      <td>983</td>\n",
       "      <td>PresaDiretta Quello che successo durante il lo...</td>\n",
       "      <td>Direct Taking What happened during the lockdow...</td>\n",
       "      <td>-0.008333</td>\n",
       "      <td>0.716667</td>\n",
       "    </tr>\n",
       "    <tr>\n",
       "      <th>984</th>\n",
       "      <td>984</td>\n",
       "      <td>MassimoGalli51 PiazzapulitaLA7 Non credo usand...</td>\n",
       "      <td>MassimoGalli51 PiazzapulitaLA7 I don't think u...</td>\n",
       "      <td>0.418182</td>\n",
       "      <td>0.527273</td>\n",
       "    </tr>\n",
       "    <tr>\n",
       "      <th>990</th>\n",
       "      <td>990</td>\n",
       "      <td>Ancora non deciso nulla sul blocco del calcett...</td>\n",
       "      <td>Still not decided anything on the block of soc...</td>\n",
       "      <td>-0.187500</td>\n",
       "      <td>0.312500</td>\n",
       "    </tr>\n",
       "    <tr>\n",
       "      <th>994</th>\n",
       "      <td>994</td>\n",
       "      <td>Quello che successo durante il lockdown solo l...</td>\n",
       "      <td>What happened during the lockdown is only the ...</td>\n",
       "      <td>-0.041667</td>\n",
       "      <td>0.916667</td>\n",
       "    </tr>\n",
       "    <tr>\n",
       "      <th>998</th>\n",
       "      <td>998</td>\n",
       "      <td>Questo nuovo Dpcm ha un forte e amarissimo sap...</td>\n",
       "      <td>This new Dpcm has a strong and very bitter tas...</td>\n",
       "      <td>0.146566</td>\n",
       "      <td>0.612626</td>\n",
       "    </tr>\n",
       "  </tbody>\n",
       "</table>\n",
       "<p>462 rows × 5 columns</p>\n",
       "</div>"
      ],
      "text/plain": [
       "     Unnamed: 0                                              Testo                                               Text  Polarity  Subjectivity\n",
       "2             2  Io sono pi drastica tranne poche eccezioni non...  I am more drastic with a few exceptions they n...  0.150000      0.300000\n",
       "3             3  Popolazione Lombardia 10060574 abitanti pi o m...  Population Lombardy 10060574 inhabitants more ...  0.166667      0.283333\n",
       "4             4  Per implementare un lockdown in assenza di dic...  To implement a lockdown in the absence of a fo... -0.012500      0.000000\n",
       "6             6  Apro twitterLockdown2 lockdown Natale Lombardi...  I open twitterLockdown2 Christmas Lombardy loc...  0.045455      0.651515\n",
       "9             9  Causa COVID19 rinunciamo pure ad una vacanza a...  Cause COVID19 we will also give up a holiday a...  0.416667      0.666667\n",
       "..          ...                                                ...                                                ...       ...           ...\n",
       "983         983  PresaDiretta Quello che successo durante il lo...  Direct Taking What happened during the lockdow... -0.008333      0.716667\n",
       "984         984  MassimoGalli51 PiazzapulitaLA7 Non credo usand...  MassimoGalli51 PiazzapulitaLA7 I don't think u...  0.418182      0.527273\n",
       "990         990  Ancora non deciso nulla sul blocco del calcett...  Still not decided anything on the block of soc... -0.187500      0.312500\n",
       "994         994  Quello che successo durante il lockdown solo l...  What happened during the lockdown is only the ... -0.041667      0.916667\n",
       "998         998  Questo nuovo Dpcm ha un forte e amarissimo sap...  This new Dpcm has a strong and very bitter tas...  0.146566      0.612626\n",
       "\n",
       "[462 rows x 5 columns]"
      ]
     },
     "execution_count": 7,
     "metadata": {},
     "output_type": "execute_result"
    }
   ],
   "source": [
    "df"
   ]
  },
  {
   "cell_type": "code",
   "execution_count": 8,
   "metadata": {},
   "outputs": [
    {
     "data": {
      "image/png": "[encoded data removed]",
      "text/plain": [
       "<Figure size 432x288 with 1 Axes>"
      ]
     },
     "metadata": {},
     "output_type": "display_data"
    }
   ],
   "source": [
    "fig = sns.distplot(df.Polarity, bins=15)\n",
    "fig1=sns.distplot(df.Subjectivity,bins=15)"
   ]
  },
  {
   "cell_type": "code",
   "execution_count": 9,
   "metadata": {},
   "outputs": [],
   "source": [
    "media_pol_pos = df.Polarity[df.Polarity > 0].median()"
   ]
  },
  {
   "cell_type": "code",
   "execution_count": 10,
   "metadata": {},
   "outputs": [],
   "source": [
    "media_pol_neg= df.Polarity[df.Polarity <0].median()"
   ]
  },
  {
   "cell_type": "code",
   "execution_count": 11,
   "metadata": {},
   "outputs": [],
   "source": [
    "media_subj=df.Subjectivity.median()"
   ]
  },
  {
   "cell_type": "code",
   "execution_count": 12,
   "metadata": {},
   "outputs": [],
   "source": [
    "data = {'Media_pol_pos':  [df.Polarity[df.Polarity > 0].median()],\n",
    "        'media_pol_neg': [df.Polarity[df.Polarity <0].median()],\n",
    "        \"media_subj\" :[df.Subjectivity.median()]\n",
    "        }"
   ]
  },
  {
   "cell_type": "code",
   "execution_count": 17,
   "metadata": {},
   "outputs": [
    {
     "data": {
      "text/html": [
       "<div>\n",
       "<style scoped>\n",
       "    .dataframe tbody tr th:only-of-type {\n",
       "        vertical-align: middle;\n",
       "    }\n",
       "\n",
       "    .dataframe tbody tr th {\n",
       "        vertical-align: top;\n",
       "    }\n",
       "\n",
       "    .dataframe thead th {\n",
       "        text-align: right;\n",
       "    }\n",
       "</style>\n",
       "<table border=\"1\" class=\"dataframe\">\n",
       "  <thead>\n",
       "    <tr style=\"text-align: right;\">\n",
       "      <th></th>\n",
       "      <th>Media_pol_pos</th>\n",
       "      <th>media_pol_neg</th>\n",
       "      <th>media_subj</th>\n",
       "    </tr>\n",
       "  </thead>\n",
       "  <tbody>\n",
       "    <tr>\n",
       "      <th>0</th>\n",
       "      <td>0.2</td>\n",
       "      <td>-0.166667</td>\n",
       "      <td>0.478914</td>\n",
       "    </tr>\n",
       "  </tbody>\n",
       "</table>\n",
       "</div>"
      ],
      "text/plain": [
       "   Media_pol_pos  media_pol_neg  media_subj\n",
       "0            0.2      -0.166667    0.478914"
      ]
     },
     "execution_count": 17,
     "metadata": {},
     "output_type": "execute_result"
    }
   ],
   "source": [
    "df_medie= pd.DataFrame(data)\n",
    "df_medie"
   ]
  }
 ],
 "metadata": {
  "kernelspec": {
   "display_name": "Python 3",
   "language": "python",
   "name": "python3"
  },
  "language_info": {
   "codemirror_mode": {
    "name": "ipython",
    "version": 3
   },
   "file_extension": ".py",
   "mimetype": "text/x-python",
   "name": "python",
   "nbconvert_exporter": "python",
   "pygments_lexer": "ipython3",
   "version": "3.8.3"
  }
 },
 "nbformat": 4,
 "nbformat_minor": 4
}
